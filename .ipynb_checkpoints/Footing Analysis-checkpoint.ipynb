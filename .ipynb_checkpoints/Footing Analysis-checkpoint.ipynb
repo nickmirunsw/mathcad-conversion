{
 "cells": [
  {
   "cell_type": "markdown",
   "id": "b6fd32aa-288c-45dc-b1d4-a9c8cb35cd87",
   "metadata": {},
   "source": [
    "## Footing Analysis - Bearing Capacity Check\n",
    "### Support type: [XX]\n",
    "#### References \n",
    "Nil\n",
    "### Desing Approach\n",
    "Bearing capacity check of abutment footing for lining and/or lattice girder bearing on Class II Shale.\n",
    "Stability of wedges formed by intersecting discontinuities within Class III Shale using Swedge (version 6).\n",
    "### Foundation Bearing Capacity for Abutment Footing\n",
    "The calculations below presents the assessment of rock bearing capacity of the abutment to support type\n",
    "[Insert Rock Class] and [Support Type] tunnel lining due to overburden and arching effects. "
   ]
  },
  {
   "cell_type": "code",
   "execution_count": 32,
   "id": "a29419f4-6d12-4378-a7e4-f911655a658a",
   "metadata": {},
   "outputs": [],
   "source": [
    "# # Step 1: Importing Required Libraries\n",
    "# import numpy as np\n",
    "# import pandas as pd"
   ]
  },
  {
   "cell_type": "code",
   "execution_count": 33,
   "id": "be44bd8a-d0b8-454e-aa2b-fccfc3b8930d",
   "metadata": {},
   "outputs": [],
   "source": [
    "# Step 2: Geotechnical Parameters\n",
    "# Define the given parameters\n",
    "unit_weight_rock_mass = 24  # kN/m^3\n",
    "ucs = 15 * 10**3  # Unconfined Compressive Strength in kPa (converted from MPa)\n",
    "poisson_ratio = 0.2"
   ]
  },
  {
   "cell_type": "code",
   "execution_count": 34,
   "id": "b168f789-dfab-4a5f-9d52-1594ae47b6cb",
   "metadata": {},
   "outputs": [],
   "source": [
    "# Step 3: Foundation Geometry\n",
    "foundation_width = 0.260  # m\n",
    "foundation_length = 0.2  # m"
   ]
  },
  {
   "cell_type": "code",
   "execution_count": 35,
   "id": "4010410c-1ef8-4963-bfef-781d75bbcab2",
   "metadata": {},
   "outputs": [],
   "source": [
    "# Step 4: Abutment Loading\n",
    "factored_loading = 11410  # kN/m\n",
    "unfactored_loading = factored_loading / 1.5  # kN/m"
   ]
  },
  {
   "cell_type": "code",
   "execution_count": 36,
   "id": "83757e25-f596-49cb-b366-11110375a681",
   "metadata": {},
   "outputs": [],
   "source": [
    "# Step 5: Bearing Capacity\n",
    "ultimate_bearing_capacity = 0.5 * ucs  # kPa\n",
    "bearing_stress = unfactored_loading / foundation_width  # kPa"
   ]
  },
  {
   "cell_type": "code",
   "execution_count": 37,
   "id": "91f96c53-f048-4b30-a859-70b431f26586",
   "metadata": {},
   "outputs": [],
   "source": [
    "# Step 6: Bearing Check\n",
    "factor_of_safety = ultimate_bearing_capacity / bearing_stress\n",
    "bearing_check = \"yes\" if factor_of_safety >= 1.5 else \"no\""
   ]
  },
  {
   "cell_type": "code",
   "execution_count": 38,
   "id": "2d028860-be13-4998-b644-6c0d647996c3",
   "metadata": {},
   "outputs": [],
   "source": [
    "# Step 7: Results and Conclusion\n",
    "results = {\n",
    "    \"Unit Weight of Rock Mass (kN/m^3)\": unit_weight_rock_mass,\n",
    "    \"Unconfined Compressive Strength (kPa)\": ucs,\n",
    "    \"Poisson's Ratio\": poisson_ratio,\n",
    "    \"Foundation Width (m)\": foundation_width,\n",
    "    \"Foundation Length (m)\": foundation_length,\n",
    "    \"Factored Loading (kN/m)\": factored_loading,\n",
    "    \"Unfactored Loading (kN/m)\": unfactored_loading,\n",
    "    \"Ultimate Bearing Capacity (kPa)\": ultimate_bearing_capacity,\n",
    "    \"Bearing Stress (kPa)\": bearing_stress,\n",
    "    \"Factor of Safety\": factor_of_safety,\n",
    "    \"Bearing Check (Pass)\": bearing_check,\n",
    "}"
   ]
  },
  {
   "cell_type": "code",
   "execution_count": 39,
   "id": "c1e31fc9-262c-4f6d-95bf-ed5b3764a75e",
   "metadata": {},
   "outputs": [
    {
     "name": "stdout",
     "output_type": "stream",
     "text": [
      "{'Unit Weight of Rock Mass (kN/m^3)': 24, 'Unconfined Compressive Strength (kPa)': 15000, \"Poisson's Ratio\": 0.2, 'Foundation Width (m)': 0.26, 'Foundation Length (m)': 0.2, 'Factored Loading (kN/m)': 11410, 'Unfactored Loading (kN/m)': 7606.666666666667, 'Ultimate Bearing Capacity (kPa)': 7500.0, 'Bearing Stress (kPa)': 29256.410256410258, 'Factor of Safety': 0.2563540753724803, 'Bearing Check (Pass)': 'no'}\n"
     ]
    }
   ],
   "source": [
    "print(results)"
   ]
  },
  {
   "cell_type": "code",
   "execution_count": 40,
   "id": "8d9afa29-9400-4cc1-a381-dee4110767b4",
   "metadata": {},
   "outputs": [
    {
     "name": "stdout",
     "output_type": "stream",
     "text": [
      "11410\n",
      "7500.0\n",
      "no\n"
     ]
    }
   ],
   "source": [
    "print(results.get(\"Factored Loading (kN/m)\"))\n",
    "print(results.get(\"Ultimate Bearing Capacity (kPa)\")) \n",
    "print(results.get(\"Bearing Check (Pass)\"))"
   ]
  },
  {
   "cell_type": "code",
   "execution_count": null,
   "id": "ed419042-a1a5-474c-aa0f-b91169a50575",
   "metadata": {},
   "outputs": [],
   "source": []
  }
 ],
 "metadata": {
  "kernelspec": {
   "display_name": "Python 3 (ipykernel)",
   "language": "python",
   "name": "python3"
  },
  "language_info": {
   "codemirror_mode": {
    "name": "ipython",
    "version": 3
   },
   "file_extension": ".py",
   "mimetype": "text/x-python",
   "name": "python",
   "nbconvert_exporter": "python",
   "pygments_lexer": "ipython3",
   "version": "3.13.0"
  }
 },
 "nbformat": 4,
 "nbformat_minor": 5
}
